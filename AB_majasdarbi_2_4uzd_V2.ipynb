{
 "cells": [
  {
   "cell_type": "code",
   "execution_count": 2,
   "metadata": {},
   "outputs": [
    {
     "name": "stdout",
     "output_type": "stream",
     "text": [
      "Wrong input and result V= 0\n",
      "Volume of retangular Cuboid  V= 60\n",
      "Wrong input and result V= -60\n",
      "Wrong input and result V= -36\n",
      "Wrong input and result V= -56\n"
     ]
    },
    {
     "data": {
      "text/plain": [
       "False"
      ]
     },
     "execution_count": 2,
     "metadata": {},
     "output_type": "execute_result"
    }
   ],
   "source": [
    "def recVol(a=0,b=0,c=0):# Calculation of retangular Cuboid Volume \n",
    "    v=a*b*c\n",
    "    if v<=0 or b<0 or c<0 or a<0:\n",
    "        print(\"Wrong input and result V=\",v)\n",
    "        return False\n",
    "    else:\n",
    "        print(\"Volume of retangular Cuboid  V=\",v)\n",
    "        return v\n",
    "recVol(2,0,6)\n",
    "recVol(2,5,6)\n",
    "recVol(2,-5,6)\n",
    "recVol(-2,3,6)\n",
    "recVol(2,4,-7)"
   ]
  },
  {
   "cell_type": "code",
   "execution_count": 3,
   "metadata": {},
   "outputs": [
    {
     "name": "stdout",
     "output_type": "stream",
     "text": [
      "Yes, this string is palindrome  - alus ari ira sula == True\n"
     ]
    }
   ],
   "source": [
    "def fPalindroms(s): #function  check if string is a palindrome\n",
    "    d=s[::-1]\n",
    "    if s==d:\n",
    "        print(\"Yes, this string is palindrome  -\",d,\"==\", True)\n",
    "    else:\n",
    "        print(\"No  palindrome-\",d,\"==\", False)\n",
    "fPalindroms(\"alus ari ira sula\")"
   ]
  },
  {
   "cell_type": "markdown",
   "metadata": {},
   "source": [
    "Testēšanai \n",
    "qwertyuiopasdfghjklzxcvbnm\n",
    "q we rt y uio  pas dfgh jklz x, cvbnm !\n",
    "q we rt y uio  pas dfgh jklz x cvbnm !\n",
    "the, quick+ Brown: Fox, jumps //over The lazy: \\\\ Dog\n",
    "\"the, quick+ Brown: Fox, jumps //over The lazy: \\\\ Dog\"\n",
    "The quick brown fox jumps over the lazy dog\n",
    "The five boxing wizards jump quickly"
   ]
  },
  {
   "cell_type": "code",
   "execution_count": 22,
   "metadata": {},
   "outputs": [
    {
     "name": "stdout",
     "output_type": "stream",
     "text": [
      "Input text in english ! The five boxing wizards jump quickly\n",
      "Pirms tīrīšanas cikla -  [' ', 'a', 'b', 'c', 'd', 'e', 'f', 'g', 'h', 'i', 'j', 'k', 'l', 'm', 'n', 'o', 'p', 'q', 'r', 's', 't', 'u', 'v', 'w', 'x', 'y', 'z']\n",
      " \n",
      "b\n",
      "c\n",
      "d\n",
      "e\n",
      "f\n",
      "g\n",
      "h\n",
      "i\n",
      "j\n",
      "k\n",
      "l\n",
      "m\n",
      "n\n",
      "o\n",
      "p\n",
      "q\n",
      "r\n",
      "s\n",
      "t\n",
      "u\n",
      "v\n",
      "w\n",
      "x\n",
      "y\n",
      "z\n",
      "īztīrīts variants a - ['b', 'c', 'd', 'e', 'f', 'g', 'h', 'i', 'j', 'k', 'l', 'm', 'n', 'o', 'p', 'q', 'r', 's', 't', 'u', 'v', 'w', 'x', 'y', 'z']\n",
      "īztīrīts variants b - ['a', 'b', 'c', 'd', 'e', 'f', 'g', 'h', 'i', 'j', 'k', 'l', 'm', 'n', 'o', 'p', 'q', 'r', 's', 't', 'u', 'v', 'w', 'x', 'y', 'z']\n",
      " Is pangram -  True\n"
     ]
    }
   ],
   "source": [
    "#Pangrama stringa pārbaude !\n",
    "def ifPangram():\n",
    "    strings=str(input(\"Input text in english ! \"))\n",
    "    testList=['a', 'b', 'c', 'd', 'e', 'f', 'g', 'h', 'i', 'j', 'k', 'l', 'm', 'n', 'o', 'p', 'q', 'r', 's', 't', 'u', 'v', 'w', 'x', 'y', 'z']\n",
    "    s=strings.lower()\n",
    "    d=set(list(s))\n",
    "    d=list(d)\n",
    "    d.sort()\n",
    "    cc=[]\n",
    "    print(\"Pirms tīrīšanas cikla - \",d)# izprintē lai saprastu ko tīra ! \n",
    "    for char in d:\n",
    "        print (char)# redzams, ka korekti nestrādā for cikls !\n",
    "        if char.isalpha():\n",
    "            cc.extend(char)# savukārt šis mēdz \"nozagt\" burtu \"a\",\n",
    "            # ja stringā papildus elementi :+-/?\"\" jo nestrādā for cikls, \n",
    "        else:\n",
    "            d.remove(char)# kāpēc šis nestrādā korekti! Paliek lieki elementi listā \n",
    "            #ja sringā :+-/?\"\" vai skaitļi jo nestrādā for cikls  \n",
    "    print(\"īztīrīts variants a -\",cc)# tikai testēšanai\n",
    "    print (\"īztīrīts variants b -\",d)# tikai testēšanai \n",
    "    if cc==testList or d==testList:# nekorekti, bet šādi strādā nedaudz labāk ! \n",
    "        print(\" Is pangram - \", True)\n",
    "    else:\n",
    "        print(\" No pangram - \", False)\n",
    "ifPangram()"
   ]
  },
  {
   "cell_type": "code",
   "execution_count": 79,
   "metadata": {},
   "outputs": [
    {
     "ename": "TypeError",
     "evalue": "can only concatenate list (not \"str\") to list",
     "output_type": "error",
     "traceback": [
      "\u001b[1;31m---------------------------------------------------------------------------\u001b[0m",
      "\u001b[1;31mTypeError\u001b[0m                                 Traceback (most recent call last)",
      "\u001b[1;32m<ipython-input-79-345fe57ee6f1>\u001b[0m in \u001b[0;36m<module>\u001b[1;34m()\u001b[0m\n\u001b[0;32m      1\u001b[0m \u001b[0mListV\u001b[0m\u001b[1;33m=\u001b[0m\u001b[1;33m[\u001b[0m\u001b[1;34m\"v\"\u001b[0m\u001b[1;33m,\u001b[0m\u001b[1;34m\"c\"\u001b[0m\u001b[1;33m]\u001b[0m\u001b[1;33m\u001b[0m\u001b[0m\n\u001b[1;32m----> 2\u001b[1;33m \u001b[0mListV\u001b[0m\u001b[1;33m=\u001b[0m\u001b[0mListV\u001b[0m\u001b[1;33m+\u001b[0m\u001b[1;34m\"d\"\u001b[0m\u001b[1;33m\u001b[0m\u001b[0m\n\u001b[0m\u001b[0;32m      3\u001b[0m \u001b[0mprint\u001b[0m\u001b[1;33m(\u001b[0m\u001b[0mListV\u001b[0m\u001b[1;33m)\u001b[0m\u001b[1;33m\u001b[0m\u001b[0m\n",
      "\u001b[1;31mTypeError\u001b[0m: can only concatenate list (not \"str\") to list"
     ]
    }
   ],
   "source": [
    "ListV=[\"v\",\"c\"]\n",
    "ListV=ListV+\"d\"\n",
    "print(ListV)"
   ]
  },
  {
   "cell_type": "code",
   "execution_count": 21,
   "metadata": {},
   "outputs": [
    {
     "name": "stdout",
     "output_type": "stream",
     "text": [
      "Input text in english ! The five boxing wizards jump quickly\n",
      "Masiva elementu kkopējais skaits - 27\n",
      "Pirms tīrīšanas cikla -  [' ', 'a', 'b', 'c', 'd', 'e', 'f', 'g', 'h', 'i', 'j', 'k', 'l', 'm', 'n', 'o', 'p', 'q', 'r', 's', 't', 'u', 'v', 'w', 'x', 'y', 'z']\n",
      "0 -  \n",
      "1 - b\n",
      "2 - c\n",
      "3 - d\n",
      "4 - e\n",
      "5 - f\n",
      "6 - g\n",
      "7 - h\n",
      "8 - i\n",
      "9 - j\n",
      "10 - k\n",
      "11 - l\n",
      "12 - m\n",
      "13 - n\n",
      "14 - o\n",
      "15 - p\n",
      "16 - q\n",
      "17 - r\n",
      "18 - s\n",
      "19 - t\n",
      "20 - u\n",
      "21 - v\n",
      "22 - w\n",
      "23 - x\n",
      "24 - y\n",
      "25 - z\n"
     ]
    },
    {
     "ename": "IndexError",
     "evalue": "list index out of range",
     "output_type": "error",
     "traceback": [
      "\u001b[1;31m---------------------------------------------------------------------------\u001b[0m",
      "\u001b[1;31mIndexError\u001b[0m                                Traceback (most recent call last)",
      "\u001b[1;32m<ipython-input-21-4e4c5b5d59b6>\u001b[0m in \u001b[0;36m<module>\u001b[1;34m()\u001b[0m\n\u001b[0;32m     25\u001b[0m     \u001b[1;32melse\u001b[0m\u001b[1;33m:\u001b[0m\u001b[1;33m\u001b[0m\u001b[0m\n\u001b[0;32m     26\u001b[0m         \u001b[0mprint\u001b[0m\u001b[1;33m(\u001b[0m\u001b[1;34m\" No pangram - \"\u001b[0m\u001b[1;33m,\u001b[0m \u001b[1;32mFalse\u001b[0m\u001b[1;33m)\u001b[0m\u001b[1;33m\u001b[0m\u001b[0m\n\u001b[1;32m---> 27\u001b[1;33m \u001b[0mifPangram2\u001b[0m\u001b[1;33m(\u001b[0m\u001b[1;33m)\u001b[0m\u001b[1;33m\u001b[0m\u001b[0m\n\u001b[0m",
      "\u001b[1;32m<ipython-input-21-4e4c5b5d59b6>\u001b[0m in \u001b[0;36mifPangram2\u001b[1;34m()\u001b[0m\n\u001b[0;32m     12\u001b[0m     \u001b[0mprint\u001b[0m\u001b[1;33m(\u001b[0m\u001b[1;34m\"Pirms tīrīšanas cikla - \"\u001b[0m\u001b[1;33m,\u001b[0m\u001b[0md\u001b[0m\u001b[1;33m)\u001b[0m\u001b[1;31m# izprintē lai saprastu ko tīra !\u001b[0m\u001b[1;33m\u001b[0m\u001b[0m\n\u001b[0;32m     13\u001b[0m     \u001b[1;32mfor\u001b[0m \u001b[0mx\u001b[0m \u001b[1;32min\u001b[0m \u001b[0mrange\u001b[0m\u001b[1;33m(\u001b[0m\u001b[0mfff\u001b[0m\u001b[1;33m)\u001b[0m\u001b[1;33m:\u001b[0m\u001b[1;33m\u001b[0m\u001b[0m\n\u001b[1;32m---> 14\u001b[1;33m         \u001b[0mprint\u001b[0m\u001b[1;33m(\u001b[0m\u001b[0mx\u001b[0m\u001b[1;33m,\u001b[0m\u001b[1;34m\"-\"\u001b[0m\u001b[1;33m,\u001b[0m\u001b[0md\u001b[0m\u001b[1;33m[\u001b[0m\u001b[0mx\u001b[0m\u001b[1;33m]\u001b[0m\u001b[1;33m)\u001b[0m\u001b[1;31m# kaut kā neizprintē visus masīva d elementus.\u001b[0m\u001b[1;33m\u001b[0m\u001b[0m\n\u001b[0m\u001b[0;32m     15\u001b[0m         \u001b[1;32mif\u001b[0m \u001b[0md\u001b[0m\u001b[1;33m[\u001b[0m\u001b[0mx\u001b[0m\u001b[1;33m]\u001b[0m\u001b[1;33m.\u001b[0m\u001b[0misalpha\u001b[0m\u001b[1;33m(\u001b[0m\u001b[1;33m)\u001b[0m\u001b[1;33m:\u001b[0m\u001b[1;33m\u001b[0m\u001b[0m\n\u001b[0;32m     16\u001b[0m             \u001b[0mcc\u001b[0m\u001b[1;33m.\u001b[0m\u001b[0mextend\u001b[0m\u001b[1;33m(\u001b[0m\u001b[0md\u001b[0m\u001b[1;33m[\u001b[0m\u001b[0mx\u001b[0m\u001b[1;33m]\u001b[0m\u001b[1;33m)\u001b[0m\u001b[1;31m# savukārt šis mēdz \"nozagt\" burtu \"a\",\u001b[0m\u001b[1;33m\u001b[0m\u001b[0m\n",
      "\u001b[1;31mIndexError\u001b[0m: list index out of range"
     ]
    }
   ],
   "source": [
    "# Papildināju kodu, bet for cikls tāpat nestrādā korekti ! \n",
    "def ifPangram2():\n",
    "    strings=str(input(\"Input text in english ! \"))\n",
    "    testList=['a', 'b', 'c', 'd', 'e', 'f', 'g', 'h', 'i', 'j', 'k', 'l', 'm', 'n', 'o', 'p', 'q', 'r', 's', 't', 'u', 'v', 'w', 'x', 'y', 'z']\n",
    "    s=strings.lower()\n",
    "    d=set(list(s))\n",
    "    d=list(d)\n",
    "    d.sort()\n",
    "    cc=[]\n",
    "    fff=len(d)\n",
    "    print(\"Masiva elementu kkopējais skaits -\", fff)\n",
    "    print(\"Pirms tīrīšanas cikla - \",d)# izprintē lai saprastu ko tīra ! \n",
    "    for x in range(fff):\n",
    "        print(x,\"-\",d[x])# kaut kā neizprintē visus masīva d elementus. \n",
    "        if d[x].isalpha():\n",
    "            cc.extend(d[x])# savukārt šis mēdz \"nozagt\" burtu \"a\",\n",
    "            # ja stringā papildus elementi :+-/?\"\" jo nestrādā for cikls ! \n",
    "        else:\n",
    "            d.remove(d[x])# kāpēc šis nestrādā korekti! Paliek lieki elementi listā \n",
    "            #ja sringā :+-/?\"\" vai skaitļi jo nestrādā for cikls !   \n",
    "    print(cc)# tikai testēšanai\n",
    "    print (d)# tikai testēšanai \n",
    "    if cc==testList or d==testList:# nekorekti, bet šādi strādā nedaudz labāk ! \n",
    "        print(\" Is pangram - \", True)\n",
    "    else:\n",
    "        print(\" No pangram - \", False)\n",
    "ifPangram2()"
   ]
  },
  {
   "cell_type": "code",
   "execution_count": 71,
   "metadata": {},
   "outputs": [
    {
     "name": "stdout",
     "output_type": "stream",
     "text": [
      " \n",
      "+\n",
      ":\n",
      "!\n",
      "a\n",
      "b\n",
      "c\n",
      "d\n",
      "e\n",
      "f\n",
      "g\n",
      "h\n",
      "i\n",
      "j\n",
      "k\n",
      "l\n",
      "m\n",
      "n\n",
      "o\n",
      "p\n",
      "q\n",
      "r\n",
      "s\n",
      "t\n",
      "u\n",
      "v\n",
      "w\n",
      "x\n",
      "y\n",
      "z\n"
     ]
    }
   ],
   "source": [
    "ffgg=[' ','+', ':', '!','a', 'b', 'c', 'd', 'e', 'f', 'g', 'h', 'i', 'j', 'k', 'l', 'm', 'n', 'o', 'p', 'q', 'r', 's', 't', 'u', 'v', 'w', 'x', 'y', 'z']\n",
    "for x in ffgg:\n",
    "    print(x)"
   ]
  },
  {
   "cell_type": "code",
   "execution_count": 59,
   "metadata": {},
   "outputs": [
    {
     "name": "stdout",
     "output_type": "stream",
     "text": [
      " \n",
      ":\n",
      "a\n",
      "b\n",
      "c\n",
      "d\n",
      "e\n",
      "f\n",
      "g\n",
      "h\n",
      "i\n",
      "j\n",
      "k\n",
      "l\n",
      "m\n",
      "n\n",
      "o\n",
      "p\n",
      "q\n",
      "r\n",
      "s\n",
      "t\n",
      "u\n",
      "v\n",
      "w\n",
      "x\n",
      "y\n",
      "z\n",
      "īztīrīts variants a - ['a', 'b', 'c', 'd', 'e', 'f', 'g', 'h', 'i', 'j', 'k', 'l', 'm', 'n', 'o', 'p', 'q', 'r', 's', 't', 'u', 'v', 'w', 'x', 'y', 'z']\n",
      "īztīrīts variants b - ['+', '!', 'a', 'b', 'c', 'd', 'e', 'f', 'g', 'h', 'i', 'j', 'k', 'l', 'm', 'n', 'o', 'p', 'q', 'r', 's', 't', 'u', 'v', 'w', 'x', 'y', 'z']\n"
     ]
    }
   ],
   "source": [
    "ffgg=[' ','+', ':', '!','a', 'b', 'c', 'd', 'e', 'f', 'g', 'h', 'i', 'j', 'k', 'l', 'm', 'n', 'o', 'p', 'q', 'r', 's', 't', 'u', 'v', 'w', 'x', 'y', 'z']\n",
    "cc=[]\n",
    "for x in ffgg:\n",
    "    print(x)\n",
    "    if x.isalpha():\n",
    "        cc.extend(x)\n",
    "    else:\n",
    "        ffgg.remove(x)\n",
    "print(\"īztīrīts variants a -\",cc)\n",
    "print (\"īztīrīts variants b -\",ffgg)"
   ]
  },
  {
   "cell_type": "code",
   "execution_count": 47,
   "metadata": {},
   "outputs": [
    {
     "data": {
      "text/plain": [
       "False"
      ]
     },
     "execution_count": 47,
     "metadata": {},
     "output_type": "execute_result"
    }
   ],
   "source": [
    "a=\"b\"\n",
    "a.isalpha()"
   ]
  },
  {
   "cell_type": "code",
   "execution_count": 78,
   "metadata": {},
   "outputs": [
    {
     "name": "stdout",
     "output_type": "stream",
     "text": [
      "30\n",
      "0 -   - <class 'str'> - False\n",
      "No\n",
      "1 - + - <class 'str'> - False\n",
      "No\n",
      "2 - : - <class 'str'> - False\n",
      "No\n",
      "3 - ! - <class 'str'> - False\n",
      "No\n",
      "4 - a - <class 'str'> - True\n",
      "Ok\n",
      "5 - b - <class 'str'> - True\n",
      "Ok\n",
      "6 - c - <class 'str'> - True\n",
      "Ok\n",
      "7 - d - <class 'str'> - True\n",
      "Ok\n",
      "8 - e - <class 'str'> - True\n",
      "Ok\n",
      "9 - f - <class 'str'> - True\n",
      "Ok\n",
      "10 - g - <class 'str'> - True\n",
      "Ok\n",
      "11 - h - <class 'str'> - True\n",
      "Ok\n",
      "12 - i - <class 'str'> - True\n",
      "Ok\n",
      "13 - j - <class 'str'> - True\n",
      "Ok\n",
      "14 - k - <class 'str'> - True\n",
      "Ok\n",
      "15 - l - <class 'str'> - True\n",
      "Ok\n",
      "16 - m - <class 'str'> - True\n",
      "Ok\n",
      "17 - n - <class 'str'> - True\n",
      "Ok\n",
      "18 - o - <class 'str'> - True\n",
      "Ok\n",
      "19 - p - <class 'str'> - True\n",
      "Ok\n",
      "20 - q - <class 'str'> - True\n",
      "Ok\n",
      "21 - r - <class 'str'> - True\n",
      "Ok\n",
      "22 - s - <class 'str'> - True\n",
      "Ok\n",
      "23 - t - <class 'str'> - True\n",
      "Ok\n",
      "24 - u - <class 'str'> - True\n",
      "Ok\n",
      "25 - v - <class 'str'> - True\n",
      "Ok\n",
      "26 - w - <class 'str'> - True\n",
      "Ok\n",
      "27 - x - <class 'str'> - True\n",
      "Ok\n",
      "28 - y - <class 'str'> - True\n",
      "Ok\n",
      "29 - z - <class 'str'> - True\n",
      "Ok\n"
     ]
    }
   ],
   "source": [
    "ffgg2=[' ','+', ':', '!','a', 'b', 'c', 'd', 'e', 'f', 'g', 'h', 'i', 'j', 'k', 'l', 'm', 'n', 'o', 'p', 'q', 'r', 's', 't', 'u', 'v', 'w', 'x', 'y', 'z']\n",
    "tt=len(ffgg2)\n",
    "new=[]\n",
    "print(tt)\n",
    "for x in range(tt):\n",
    "    print(x,\"-\",ffgg2[x],\"-\",type(ffgg2[x]),\"-\",ffgg2[x].isalpha())\n",
    "    if ffgg2[x].isalpha():\n",
    "        print (\"Ok\")\n",
    "#         new.extend(ffgg2[x])\n",
    "    else:\n",
    "        print(\"No\")\n",
    "#         ffgg2.remove(ffgg2[x])\n",
    "# print(new)\n",
    "# print(ffgg2)"
   ]
  },
  {
   "cell_type": "markdown",
   "metadata": {},
   "source": [
    "Testēšanai \n",
    "qwertyuiopasdfghjklzxcvbnm\n",
    "q we rt y uio  pas dfgh jklz x, cvbnm !\n",
    "q we rt y uio  pas dfgh jklz x cvbnm !\n",
    "the, quick+ Brown: Fox, jumps //over The lazy: \\\\ Dog\n",
    "\"the, quick+ Brown: Fox, jumps //over The lazy: \\\\ Dog\"\n",
    "The quick brown fox jumps over the lazy dog\n",
    "The five boxing wizards jump quickly"
   ]
  },
  {
   "cell_type": "code",
   "execution_count": 98,
   "metadata": {},
   "outputs": [
    {
     "name": "stdout",
     "output_type": "stream",
     "text": [
      "Input text in english ! The quick brown fox jumps over the lazy dog\n",
      " Is pangram -  26 - 26 - True\n"
     ]
    }
   ],
   "source": [
    "# CITA VERSIJA KODAM - REZULTĀTS IEGŪTS ! \n",
    "def ifPangram3():\n",
    "    strings=str(input(\"Input text in english ! \"))\n",
    "    testList=['a', 'b', 'c', 'd', 'e', 'f', 'g', 'h', 'i', 'j', 'k', 'l', 'm', 'n', 'o', 'p', 'q', 'r', 's', 't', 'u', 'v', 'w', 'x', 'y', 'z']\n",
    "    s=strings.lower()\n",
    "    d=set(list(s))\n",
    "    d=list(d)\n",
    "    #d.sort()\n",
    "    cc=0\n",
    "    fff=len(d)\n",
    "    lenTest=len(testList)\n",
    "    #print(\"Masiva elementu kkopējais skaits -\", fff)\n",
    "    #print(\"Pirms tīrīšanas cikla - \",d)\n",
    "    for x in range(fff):\n",
    "        #print(x,\"-\",d[x])\n",
    "        if d[x] in testList:\n",
    "            cc=cc+1\n",
    "        else:\n",
    "            cc=cc+0\n",
    "    if cc== lenTest: \n",
    "        print(\" Is pangram - \",cc,\"-\",lenTest,\"-\",  True)\n",
    "    else:\n",
    "        print(\" No pangram - \",cc,\"-\",lenTest,\"-\", False)\n",
    "ifPangram3()"
   ]
  }
 ],
 "metadata": {
  "kernelspec": {
   "display_name": "Python 3",
   "language": "python",
   "name": "python3"
  },
  "language_info": {
   "codemirror_mode": {
    "name": "ipython",
    "version": 3
   },
   "file_extension": ".py",
   "mimetype": "text/x-python",
   "name": "python",
   "nbconvert_exporter": "python",
   "pygments_lexer": "ipython3",
   "version": "3.6.2"
  }
 },
 "nbformat": 4,
 "nbformat_minor": 2
}

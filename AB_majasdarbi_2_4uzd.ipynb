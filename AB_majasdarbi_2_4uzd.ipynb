{
 "cells": [
  {
   "cell_type": "code",
   "execution_count": 1,
   "metadata": {},
   "outputs": [
    {
     "name": "stdout",
     "output_type": "stream",
     "text": [
      "Wrong input and result V= 0\n",
      "Volume of retangular Cuboid  V= 60\n",
      "Wrong input and result V= -60\n",
      "Wrong input and result V= -36\n",
      "Wrong input and result V= -56\n"
     ]
    },
    {
     "data": {
      "text/plain": [
       "False"
      ]
     },
     "execution_count": 1,
     "metadata": {},
     "output_type": "execute_result"
    }
   ],
   "source": [
    "def recVol(a=0,b=0,c=0):# Calculation of retangular Cuboid Volume \n",
    "    v=a*b*c\n",
    "    if v<=0 or b<0 or c<0 or a<0:\n",
    "        print(\"Wrong input and result V=\",v)\n",
    "        return False\n",
    "    else:\n",
    "        print(\"Volume of retangular Cuboid  V=\",v)\n",
    "        return v\n",
    "recVol(2,0,6)\n",
    "recVol(2,5,6)\n",
    "recVol(2,-5,6)\n",
    "recVol(-2,3,6)\n",
    "recVol(2,4,-7)"
   ]
  },
  {
   "cell_type": "code",
   "execution_count": 2,
   "metadata": {},
   "outputs": [
    {
     "name": "stdout",
     "output_type": "stream",
     "text": [
      "Yes, this string is palindrome  - alus ari ira sula == True\n"
     ]
    }
   ],
   "source": [
    "def fPalindroms(s): #function  check if string is a palindrome\n",
    "    d=s[::-1]\n",
    "    if s==d:\n",
    "        print(\"Yes, this string is palindrome  -\",d,\"==\", True)\n",
    "    else:\n",
    "        print(\"No  palindrome-\",d,\"==\", False)\n",
    "fPalindroms(\"alus ari ira sula\")"
   ]
  },
  {
   "cell_type": "markdown",
   "metadata": {},
   "source": [
    "Testēšanai \n",
    "qwertyuiopasdfghjklzxcvbnm\n",
    "q we rt y uio  pas dfgh jklz x, cvbnm !\n",
    "q we rt y uio  pas dfgh jklz x cvbnm !\n",
    "the, quick+ Brown: Fox, jumps //over The lazy: \\\\ Dog\n",
    "\"the, quick+ Brown: Fox, jumps //over The lazy: \\\\ Dog\"\n",
    "The quick brown fox jumps over the lazy dog\n",
    "The five boxing wizards jump quickly"
   ]
  },
  {
   "cell_type": "code",
   "execution_count": 3,
   "metadata": {},
   "outputs": [
    {
     "name": "stdout",
     "output_type": "stream",
     "text": [
      "Input text in english ! q we rt y uio  pas dfgh jklz x cvbnm !\n",
      "Pirms tīrīšanas cikla -  [' ', '!', 'a', 'b', 'c', 'd', 'e', 'f', 'g', 'h', 'i', 'j', 'k', 'l', 'm', 'n', 'o', 'p', 'q', 'r', 's', 't', 'u', 'v', 'w', 'x', 'y', 'z']\n",
      " \n",
      "a\n",
      "b\n",
      "c\n",
      "d\n",
      "e\n",
      "f\n",
      "g\n",
      "h\n",
      "i\n",
      "j\n",
      "k\n",
      "l\n",
      "m\n",
      "n\n",
      "o\n",
      "p\n",
      "q\n",
      "r\n",
      "s\n",
      "t\n",
      "u\n",
      "v\n",
      "w\n",
      "x\n",
      "y\n",
      "z\n",
      "īztīrīts variants a - ['a', 'b', 'c', 'd', 'e', 'f', 'g', 'h', 'i', 'j', 'k', 'l', 'm', 'n', 'o', 'p', 'q', 'r', 's', 't', 'u', 'v', 'w', 'x', 'y', 'z']\n",
      "īztīrīts variants b - ['!', 'a', 'b', 'c', 'd', 'e', 'f', 'g', 'h', 'i', 'j', 'k', 'l', 'm', 'n', 'o', 'p', 'q', 'r', 's', 't', 'u', 'v', 'w', 'x', 'y', 'z']\n",
      " Is pangram -  True\n"
     ]
    }
   ],
   "source": [
    "#Pangrama stringa pārbaude !\n",
    "def ifPangram():\n",
    "    strings=str(input(\"Input text in english ! \"))\n",
    "    testList=['a', 'b', 'c', 'd', 'e', 'f', 'g', 'h', 'i', 'j', 'k', 'l', 'm', 'n', 'o', 'p', 'q', 'r', 's', 't', 'u', 'v', 'w', 'x', 'y', 'z']\n",
    "    s=strings.lower()\n",
    "    d=set(list(s))\n",
    "    d=list(d)\n",
    "    d.sort()\n",
    "    cc=[]\n",
    "    print(\"Pirms tīrīšanas cikla - \",d)# izprintē lai saprastu ko tīra ! \n",
    "    for char in d:\n",
    "        print (char)# redzams, ka korekti nestrādā for cikls !\n",
    "        if char.isalpha():\n",
    "            cc.extend(char)# savukārt šis mēdz \"nozagt\" burtu \"a\",\n",
    "            # ja stringā papildus elementi :+-/?\"\" jo nestrādā for cikls, \n",
    "        else:\n",
    "            d.remove(char)# kāpēc šis nestrādā korekti! Paliek lieki elementi listā \n",
    "            #ja sringā :+-/?\"\" vai skaitļi jo nestrādā for cikls  \n",
    "    print(\"īztīrīts variants a -\",cc)# tikai testēšanai\n",
    "    print (\"īztīrīts variants b -\",d)# tikai testēšanai \n",
    "    if cc==testList or d==testList:# nekorekti, bet šādi strādā nedaudz labāk ! \n",
    "        print(\" Is pangram - \", True)\n",
    "    else:\n",
    "        print(\" No pangram - \", False)\n",
    "ifPangram()"
   ]
  },
  {
   "cell_type": "code",
   "execution_count": 13,
   "metadata": {},
   "outputs": [
    {
     "name": "stdout",
     "output_type": "stream",
     "text": [
      "Input text in english ! q we rt y uio  pas dfgh jklz x cvbnm !\n",
      "Masiva elementu kkopējais skaits - 28\n",
      "Pirms tīrīšanas cikla -  [' ', '!', 'a', 'b', 'c', 'd', 'e', 'f', 'g', 'h', 'i', 'j', 'k', 'l', 'm', 'n', 'o', 'p', 'q', 'r', 's', 't', 'u', 'v', 'w', 'x', 'y', 'z']\n",
      "0 -  \n",
      "1 - a\n",
      "2 - b\n",
      "3 - c\n",
      "4 - d\n",
      "5 - e\n",
      "6 - f\n",
      "7 - g\n",
      "8 - h\n",
      "9 - i\n",
      "10 - j\n",
      "11 - k\n",
      "12 - l\n",
      "13 - m\n",
      "14 - n\n",
      "15 - o\n",
      "16 - p\n",
      "17 - q\n",
      "18 - r\n",
      "19 - s\n",
      "20 - t\n",
      "21 - u\n",
      "22 - v\n",
      "23 - w\n",
      "24 - x\n",
      "25 - y\n",
      "26 - z\n"
     ]
    },
    {
     "ename": "IndexError",
     "evalue": "list index out of range",
     "output_type": "error",
     "traceback": [
      "\u001b[1;31m---------------------------------------------------------------------------\u001b[0m",
      "\u001b[1;31mIndexError\u001b[0m                                Traceback (most recent call last)",
      "\u001b[1;32m<ipython-input-13-ba43e8782e7c>\u001b[0m in \u001b[0;36m<module>\u001b[1;34m\u001b[0m\n\u001b[0;32m     25\u001b[0m     \u001b[1;32melse\u001b[0m\u001b[1;33m:\u001b[0m\u001b[1;33m\u001b[0m\u001b[1;33m\u001b[0m\u001b[0m\n\u001b[0;32m     26\u001b[0m         \u001b[0mprint\u001b[0m\u001b[1;33m(\u001b[0m\u001b[1;34m\" No pangram - \"\u001b[0m\u001b[1;33m,\u001b[0m \u001b[1;32mFalse\u001b[0m\u001b[1;33m)\u001b[0m\u001b[1;33m\u001b[0m\u001b[1;33m\u001b[0m\u001b[0m\n\u001b[1;32m---> 27\u001b[1;33m \u001b[0mifPangram2\u001b[0m\u001b[1;33m(\u001b[0m\u001b[1;33m)\u001b[0m\u001b[1;33m\u001b[0m\u001b[1;33m\u001b[0m\u001b[0m\n\u001b[0m",
      "\u001b[1;32m<ipython-input-13-ba43e8782e7c>\u001b[0m in \u001b[0;36mifPangram2\u001b[1;34m()\u001b[0m\n\u001b[0;32m     12\u001b[0m     \u001b[0mprint\u001b[0m\u001b[1;33m(\u001b[0m\u001b[1;34m\"Pirms tīrīšanas cikla - \"\u001b[0m\u001b[1;33m,\u001b[0m\u001b[0md\u001b[0m\u001b[1;33m)\u001b[0m\u001b[1;31m# izprintē lai saprastu ko tīra !\u001b[0m\u001b[1;33m\u001b[0m\u001b[1;33m\u001b[0m\u001b[0m\n\u001b[0;32m     13\u001b[0m     \u001b[1;32mfor\u001b[0m \u001b[0mx\u001b[0m \u001b[1;32min\u001b[0m \u001b[0mrange\u001b[0m\u001b[1;33m(\u001b[0m\u001b[0mfff\u001b[0m\u001b[1;33m)\u001b[0m\u001b[1;33m:\u001b[0m\u001b[1;33m\u001b[0m\u001b[1;33m\u001b[0m\u001b[0m\n\u001b[1;32m---> 14\u001b[1;33m         \u001b[0mprint\u001b[0m\u001b[1;33m(\u001b[0m\u001b[0mx\u001b[0m\u001b[1;33m,\u001b[0m\u001b[1;34m\"-\"\u001b[0m\u001b[1;33m,\u001b[0m\u001b[0md\u001b[0m\u001b[1;33m[\u001b[0m\u001b[0mx\u001b[0m\u001b[1;33m]\u001b[0m\u001b[1;33m)\u001b[0m\u001b[1;31m# kaut kā neizprintē visus masīva d elementus.\u001b[0m\u001b[1;33m\u001b[0m\u001b[1;33m\u001b[0m\u001b[0m\n\u001b[0m\u001b[0;32m     15\u001b[0m         \u001b[1;32mif\u001b[0m \u001b[0md\u001b[0m\u001b[1;33m[\u001b[0m\u001b[0mx\u001b[0m\u001b[1;33m]\u001b[0m\u001b[1;33m.\u001b[0m\u001b[0misalpha\u001b[0m\u001b[1;33m(\u001b[0m\u001b[1;33m)\u001b[0m\u001b[1;33m:\u001b[0m\u001b[1;33m\u001b[0m\u001b[1;33m\u001b[0m\u001b[0m\n\u001b[0;32m     16\u001b[0m             \u001b[0mcc\u001b[0m\u001b[1;33m.\u001b[0m\u001b[0mextend\u001b[0m\u001b[1;33m(\u001b[0m\u001b[0md\u001b[0m\u001b[1;33m[\u001b[0m\u001b[0mx\u001b[0m\u001b[1;33m]\u001b[0m\u001b[1;33m)\u001b[0m\u001b[1;31m# savukārt šis mēdz \"nozagt\" burtu \"a\",\u001b[0m\u001b[1;33m\u001b[0m\u001b[1;33m\u001b[0m\u001b[0m\n",
      "\u001b[1;31mIndexError\u001b[0m: list index out of range"
     ]
    }
   ],
   "source": [
    "# Papildināju kodu, bet for cikls tāpat nestrādā korekti ! \n",
    "def ifPangram2():\n",
    "    strings=str(input(\"Input text in english ! \"))\n",
    "    testList=['a', 'b', 'c', 'd', 'e', 'f', 'g', 'h', 'i', 'j', 'k', 'l', 'm', 'n', 'o', 'p', 'q', 'r', 's', 't', 'u', 'v', 'w', 'x', 'y', 'z']\n",
    "    s=strings.lower()\n",
    "    d=set(list(s))\n",
    "    d=list(d)\n",
    "    d.sort()\n",
    "    cc=[]\n",
    "    fff=len(d)\n",
    "    print(\"Masiva elementu kkopējais skaits -\", fff)\n",
    "    print(\"Pirms tīrīšanas cikla - \",d)# izprintē lai saprastu ko tīra ! \n",
    "    for x in range(fff):\n",
    "        print(x,\"-\",d[x])# kaut kā neizprintē visus masīva d elementus. \n",
    "        if d[x].isalpha():\n",
    "            cc.extend(d[x])# savukārt šis mēdz \"nozagt\" burtu \"a\",\n",
    "            # ja stringā papildus elementi :+-/?\"\" jo nestrādā for cikls ! \n",
    "        else:\n",
    "            d.remove(d[x])# kāpēc šis nestrādā korekti! Paliek lieki elementi listā \n",
    "            #ja sringā :+-/?\"\" vai skaitļi jo nestrādā for cikls !   \n",
    "    print(cc)# tikai testēšanai\n",
    "    print (d)# tikai testēšanai \n",
    "    if cc==testList or d==testList:# nekorekti, bet šādi strādā nedaudz labāk ! \n",
    "        print(\" Is pangram - \", True)\n",
    "    else:\n",
    "        print(\" No pangram - \", False)\n",
    "ifPangram2()"
   ]
  }
 ],
 "metadata": {
  "kernelspec": {
   "display_name": "Python 3",
   "language": "python",
   "name": "python3"
  },
  "language_info": {
   "codemirror_mode": {
    "name": "ipython",
    "version": 3
   },
   "file_extension": ".py",
   "mimetype": "text/x-python",
   "name": "python",
   "nbconvert_exporter": "python",
   "pygments_lexer": "ipython3",
   "version": "3.7.1"
  }
 },
 "nbformat": 4,
 "nbformat_minor": 2
}
